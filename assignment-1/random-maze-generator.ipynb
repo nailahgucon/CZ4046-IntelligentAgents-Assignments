{
 "cells": [
  {
   "cell_type": "code",
   "execution_count": 102,
   "id": "3534e08b",
   "metadata": {
    "scrolled": false
   },
   "outputs": [
    {
     "name": "stdout",
     "output_type": "stream",
     "text": [
      "W X W G G W X B B X X X B B X G X X X B G W W X \n",
      "B B B G B G W X G W G B X X B W G G W W G B B X \n",
      "X W X B G W G G X W G X X X W W B X B B G B X W \n",
      "G B G B W B X G W B B G X G W B G W G W B X G W \n",
      "W X W B X X W W X X B W W X W G G X G W W W G W \n",
      "X B G B X B G B B W B B W X G G G X B X X B W B \n",
      "W X W X B G X X W G B W G X X G B B G G G X W G \n",
      "G X X G X G G W X B X G X X G X X X X B W W X X \n",
      "W X X W G G B B G B X X G B G B B B G B B G G G \n",
      "X G B B B W X X B X B G B W X X G X G B G G B W \n",
      "W G G G B W W W X B X X W B B W X W W W G B G W \n",
      "X B B X B G G G B X G X W X W W G W B B G W X W \n",
      "W X G X B X G X G X X B G G G B G G G G X W G G \n",
      "G X W B B G W B X B X W G X X X W G G X W X G X \n",
      "B G G X B G X X B X G X W W B G G B X B X B X B \n",
      "W G W G X G W G W B G G W B X X B W X G W G B X \n",
      "X G G X B G G W B G G X X X X B B B G G X W G W \n",
      "G G X G B B W X X W B X G B W X W X B X B X W B \n",
      "X W B X W B B G B W G W G B G X W W B X X W W B \n",
      "X X W X G W B W W X B X B G G G W X X G G G W B \n",
      "G G B W B G X G B W G X G B X B W W G X G W G X \n",
      "X W W G B X X G G B G W X W G X X W G W X W X X \n",
      "G B B G B W W G G B W G X W X G G X X G B B G W \n",
      "G B G G B X W G W G X X X W G G X G G X G W G W \n"
     ]
    }
   ],
   "source": [
    "import random\n",
    "import string\n",
    "\n",
    "list = [\"X\", \"G\", \"W\", \"B\"]\n",
    "\n",
    "for x in range(24):\n",
    "    for y in range(24):\n",
    "        print( random.choice(list)+' ',end='')\n",
    "    print()"
   ]
  },
  {
   "cell_type": "code",
   "execution_count": null,
   "id": "e0e99847",
   "metadata": {},
   "outputs": [],
   "source": []
  },
  {
   "cell_type": "code",
   "execution_count": null,
   "id": "f2be8a96",
   "metadata": {},
   "outputs": [],
   "source": []
  }
 ],
 "metadata": {
  "kernelspec": {
   "display_name": "Python 3 (ipykernel)",
   "language": "python",
   "name": "python3"
  },
  "language_info": {
   "codemirror_mode": {
    "name": "ipython",
    "version": 3
   },
   "file_extension": ".py",
   "mimetype": "text/x-python",
   "name": "python",
   "nbconvert_exporter": "python",
   "pygments_lexer": "ipython3",
   "version": "3.7.9"
  }
 },
 "nbformat": 4,
 "nbformat_minor": 5
}
